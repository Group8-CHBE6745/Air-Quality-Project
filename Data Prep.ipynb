{
 "cells": [
  {
   "cell_type": "code",
   "execution_count": 1,
   "metadata": {},
   "outputs": [
    {
     "name": "stdout",
     "output_type": "stream",
     "text": [
      "[[Timestamp('2004-11-23 00:00:00') datetime.time(19, 0) 11.9 ... 74.7\n",
      "  1.0741 'Very High']\n",
      " [Timestamp('2004-11-23 00:00:00') datetime.time(20, 0) 11.5 ... 76.2\n",
      "  1.0324 'Very High']\n",
      " [Timestamp('2004-11-17 00:00:00') datetime.time(18, 0) 10.2 ... 52.8\n",
      "  0.8244 'Very High']\n",
      " ...\n",
      " [Timestamp('2005-03-29 00:00:00') datetime.time(4, 0) -200.0 ... 68.2\n",
      "  1.0611 'Very low']\n",
      " [Timestamp('2005-04-01 00:00:00') datetime.time(4, 0) -200.0 ... 48.8\n",
      "  0.7606 'Very low']\n",
      " [Timestamp('2005-04-04 00:00:00') datetime.time(4, 0) -200.0 ... 56.0\n",
      "  0.7743 'Very low']]\n"
     ]
    }
   ],
   "source": [
    "%matplotlib inline\n",
    "import numpy as np\n",
    "import pandas as pd\n",
    "import pylab as plt\n",
    "\n",
    "df = pd.read_excel('AirQualityUCI.xlsx')\n",
    "\n",
    "def is_real_and_finite(x):\n",
    "    if not np.isreal(x):\n",
    "        return False\n",
    "    elif not np.isfinite(x):\n",
    "        return False\n",
    "    else:\n",
    "        return True\n",
    "    \n",
    "all_data = df[df.columns[0:]].values\n",
    "\n",
    "print(all_data)\n",
    "#numeric_map = df[df.columns[1:]].applymap(is_real_and_finite)\n",
    "#real_rows = numeric_map.all(axis = 1).copy().values\n",
    "X = np.array(all_data[:, 1:])\n",
    "y = np.array(all_data[:, -2]) #what are we looking for???\n",
    "y = y.reshape(-1, 1)"
   ]
  },
  {
   "cell_type": "code",
   "execution_count": 2,
   "metadata": {},
   "outputs": [
    {
     "name": "stdout",
     "output_type": "stream",
     "text": [
      "(14, 9357)\n",
      "[[11.9 2008 -200 ... 74.7 1.0741 'Very High']\n",
      " [11.5 1918 -200 ... 76.2 1.0324 'Very High']\n",
      " [10.2 1802 -200 ... 52.8 0.8244 'Very High']\n",
      " ...\n",
      " [-200.0 883 -200 ... 68.2 1.0611 'Very low']\n",
      " [-200.0 818 -200 ... 48.8 0.7606 'Very low']\n",
      " [-200.0 864 -200 ... 56.0 0.7743 'Very low']]\n"
     ]
    }
   ],
   "source": [
    "data = []\n",
    "data = np.array([df['CO_GT'].values,df['PT08_S1_CO'].values,df['NMHC_GT'].values,df['C6H6_GT'].values,df['PT08_S2_NMHC'].values,df['Nox_GT'].values,df['PT08_S3_Nox'].values,df['NO2_GT'].values,df['PT08_S4_NO2'].values,df['PT08_S5_O3'].values,df['T'].values,df['RH'].values,df['AH'].values,df['CO_level'].values])\n",
    "#print(data) #all data where each row is a feature\n",
    "print(np.shape(data))\n",
    "#transpose so it looks like Excel sheet where columns are features\n",
    "X = data.T\n",
    "print(X)"
   ]
  },
  {
   "cell_type": "code",
   "execution_count": 3,
   "metadata": {},
   "outputs": [
    {
     "name": "stdout",
     "output_type": "stream",
     "text": [
      "[[11.9 2008 -200 ... 12.4 74.7 1.0741]\n",
      " [11.5 1918 -200 ... 11.5 76.2 1.0324]\n",
      " [10.2 1802 -200 ... 13.7 52.8 0.8244]\n",
      " ...\n",
      " [-200.0 883 -200 ... 13.7 68.2 1.0611]\n",
      " [-200.0 818 -200 ... 13.7 48.8 0.7606]\n",
      " [-200.0 864 -200 ... 11.8 56.0 0.7743]]\n"
     ]
    }
   ],
   "source": [
    "#delete last column\n",
    "X = X[:,0:-1]\n",
    "print(X)"
   ]
  },
  {
   "cell_type": "code",
   "execution_count": 4,
   "metadata": {},
   "outputs": [
    {
     "name": "stdout",
     "output_type": "stream",
     "text": [
      "(8530,)\n",
      "(827, 13)\n"
     ]
    },
    {
     "name": "stderr",
     "output_type": "stream",
     "text": [
      "<ipython-input-4-1596676983c5>:8: DeprecationWarning: using a non-integer array as obj in delete will result in an error in the future\n",
      "  X = np.delete(X, ind, axis = 0)\n"
     ]
    }
   ],
   "source": [
    "#delete rows where -200 is in one of the columns\n",
    "ind = []\n",
    "[r,c] = np.shape(X)\n",
    "for i in range(r): #loop through rows\n",
    "    if any(X[i,:] == -200):\n",
    "        ind = np.append(ind,i) #vector with indices for rows with -200\n",
    "print(np.shape(ind))\n",
    "X = np.delete(X, ind, axis = 0)\n",
    "print(np.shape(X))\n",
    "\n",
    "#dropping may mess up indices?"
   ]
  },
  {
   "cell_type": "code",
   "execution_count": null,
   "metadata": {},
   "outputs": [],
   "source": []
  }
 ],
 "metadata": {
  "kernelspec": {
   "display_name": "Python 3",
   "language": "python",
   "name": "python3"
  },
  "language_info": {
   "codemirror_mode": {
    "name": "ipython",
    "version": 3
   },
   "file_extension": ".py",
   "mimetype": "text/x-python",
   "name": "python",
   "nbconvert_exporter": "python",
   "pygments_lexer": "ipython3",
   "version": "3.8.3"
  }
 },
 "nbformat": 4,
 "nbformat_minor": 4
}
